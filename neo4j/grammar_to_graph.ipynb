{
 "cells": [
  {
   "cell_type": "markdown",
   "metadata": {},
   "source": [
    "# Install latest version"
   ]
  },
  {
   "cell_type": "code",
   "execution_count": 1,
   "metadata": {},
   "outputs": [
    {
     "name": "stdout",
     "output_type": "stream",
     "text": [
      "Version: 0.0.3\n"
     ]
    }
   ],
   "source": [
    "# check latest version\n",
    "! pip show networkx-neo4j | grep Version"
   ]
  },
  {
   "cell_type": "code",
   "execution_count": 2,
   "metadata": {},
   "outputs": [],
   "source": [
    "# ! pip uninstall -y networkx-neo4j #remove the old installation"
   ]
  },
  {
   "cell_type": "code",
   "execution_count": 3,
   "metadata": {},
   "outputs": [],
   "source": [
    "# ! pip install git+https://github.com/ybaktir/networkx-neo4j #install the latest one"
   ]
  },
  {
   "cell_type": "markdown",
   "metadata": {},
   "source": [
    "# Add production rules to graph"
   ]
  },
  {
   "cell_type": "code",
   "execution_count": null,
   "metadata": {},
   "outputs": [],
   "source": [
    "from neo4j import GraphDatabase\n",
    "import nxneo4j as nx\n",
    "import json\n",
    "import sys; sys.path.append(\"..\")\n",
    "from deg.core import Hypergraph, ProductionRuleCorpus, ProductionRule, hg_to_mol"
   ]
  },
  {
   "cell_type": "code",
   "execution_count": 5,
   "metadata": {},
   "outputs": [],
   "source": [
    "uri = input(\"Enter your Aura database URI: \")\n",
    "user = input(\"Enter your database user name: \")\n",
    "password = input(\"Enter your database password: \")\n",
    "\n",
    "driver = GraphDatabase.driver(uri=uri,auth=(user, password))\n",
    "                              #OR \"bolt://localhost:7673\"\n",
    "                              #OR the cloud url"
   ]
  },
  {
   "cell_type": "markdown",
   "metadata": {},
   "source": [
    "## LHS"
   ]
  },
  {
   "cell_type": "code",
   "execution_count": 6,
   "metadata": {},
   "outputs": [],
   "source": [
    "config = {\n",
    "'node_label': 'Atom_LHS',\n",
    "'relationship_type': 'BONDED_WITH',\n",
    "'identifier_property': 'name'\n",
    "}"
   ]
  },
  {
   "cell_type": "code",
   "execution_count": 7,
   "metadata": {},
   "outputs": [],
   "source": [
    "G = nx.Graph(driver, config=config)"
   ]
  },
  {
   "cell_type": "code",
   "execution_count": 8,
   "metadata": {},
   "outputs": [],
   "source": [
    "path = \"../examples/grammar.json\"\n",
    "with open(path, 'r') as f:\n",
    "    raw = json.loads(f.read())\n",
    "\n",
    "grammar = ProductionRuleCorpus(**raw)"
   ]
  },
  {
   "cell_type": "code",
   "execution_count": 9,
   "metadata": {},
   "outputs": [
    {
     "data": {
      "text/plain": [
       "Hypergraph(nodes={'bond_28', 'bond_3', 'bond_1'}, edges={'e0'}, node_attributes={'bond_1': {'symbol': BondSymbol(is_aromatic=False, bond_type=2, stereo=0, type='bond'), 'is_in_ring': False, 'visited': False, 'ext_id': 0}, 'bond_3': {'symbol': BondSymbol(is_aromatic=False, bond_type=2, stereo=0, type='bond'), 'is_in_ring': True, 'visited': False, 'ext_id': 1}, 'bond_28': {'symbol': BondSymbol(is_aromatic=False, bond_type=1, stereo=0, type='bond'), 'is_in_ring': True, 'visited': False, 'ext_id': 2}}, edge_attributes={'e0': {'terminal': False, 'symbol': NTSymbol(is_aromatic=False, degree=3, bond_symbol_list=[BondSymbol(is_aromatic=False, bond_type=1, stereo=0, type='bond'), BondSymbol(is_aromatic=False, bond_type=2, stereo=0, type='bond'), BondSymbol(is_aromatic=False, bond_type=2, stereo=0, type='bond')], for_ring=False, symbol='R', type='non_terminal')}}, nodes_in_edge_dict={'e0': ['bond_1', 'bond_3', 'bond_28']}, edge_idx=1)"
      ]
     },
     "execution_count": 9,
     "metadata": {},
     "output_type": "execute_result"
    }
   ],
   "source": [
    "rule = grammar.prod_rule_list[0] # example\n",
    "lhs = rule.lhs\n",
    "lhs"
   ]
  },
  {
   "cell_type": "code",
   "execution_count": 10,
   "metadata": {},
   "outputs": [],
   "source": [
    "# add lhs nodes to graph\n",
    "\n",
    "lhs_atom = [edge for edge in lhs.edge_attributes]\n",
    "\n",
    "for edge in lhs_atom:\n",
    "    symbol = lhs.edge_attr(edge)[\"symbol\"].symbol\n",
    "    type = \"NT\" if symbol == \"R\" else \"T\"\n",
    "    G.add_node(edge, symbol=symbol, type=\"atom\", atom_type=type)"
   ]
  },
  {
   "cell_type": "markdown",
   "metadata": {},
   "source": [
    "## RHS"
   ]
  },
  {
   "cell_type": "code",
   "execution_count": 11,
   "metadata": {},
   "outputs": [],
   "source": [
    "G.node_label = \"Atom_RHS\""
   ]
  },
  {
   "cell_type": "code",
   "execution_count": 12,
   "metadata": {},
   "outputs": [
    {
     "data": {
      "text/plain": [
       "Hypergraph(nodes={'bond_2', 'bond_28', 'bond_3', 'bond_1'}, edges={'e1', 'e0'}, node_attributes={'bond_2': {'symbol': BondSymbol(is_aromatic=False, bond_type=1, stereo=0, type='bond'), 'is_in_ring': False, 'visited': False}, 'bond_3': {'symbol': BondSymbol(is_aromatic=False, bond_type=2, stereo=0, type='bond'), 'is_in_ring': True, 'visited': False, 'ext_id': 1}, 'bond_28': {'symbol': BondSymbol(is_aromatic=False, bond_type=1, stereo=0, type='bond'), 'is_in_ring': True, 'visited': False, 'ext_id': 2}, 'bond_1': {'symbol': BondSymbol(is_aromatic=False, bond_type=2, stereo=0, type='bond'), 'is_in_ring': False, 'visited': False, 'ext_id': 0}}, edge_attributes={'e0': {'terminal': True, 'is_in_ring': True, 'visited': False, 'NT': False, 'symbol': TSymbol(is_aromatic=False, degree=0, symbol='C', num_explicit_Hs=0, formal_charge=0, chirality=0, type='terminal')}, 'e1': {'terminal': True, 'is_in_ring': False, 'visited': False, 'NT': False, 'symbol': TSymbol(is_aromatic=False, degree=0, symbol='N', num_explicit_Hs=0, formal_charge=0, chirality=0, type='terminal')}}, nodes_in_edge_dict={'e0': ['bond_2', 'bond_3', 'bond_28'], 'e1': ['bond_2', 'bond_1']}, edge_idx=2)"
      ]
     },
     "execution_count": 12,
     "metadata": {},
     "output_type": "execute_result"
    }
   ],
   "source": [
    "rhs = rule.rhs\n",
    "rhs"
   ]
  },
  {
   "cell_type": "code",
   "execution_count": 13,
   "metadata": {},
   "outputs": [],
   "source": [
    "# add rhs nodes to graph\n",
    "\n",
    "rhs_atom = [edge for edge in rhs.edge_attributes]\n",
    "\n",
    "for edge in rhs_atom:\n",
    "    symbol = rhs.edge_attr(edge)[\"symbol\"].symbol\n",
    "    type = \"NT\" if symbol == \"R\" else \"T\"\n",
    "    G.add_node(edge, symbol=symbol, type=\"atom\", atom_type=type)"
   ]
  },
  {
   "cell_type": "code",
   "execution_count": 14,
   "metadata": {},
   "outputs": [
    {
     "name": "stdout",
     "output_type": "stream",
     "text": [
      "{'bond_2': ['e0', 'e1'], 'bond_3': ['e0'], 'bond_28': ['e0'], 'bond_1': ['e1']}\n"
     ]
    }
   ],
   "source": [
    "# make dictionary of atoms and their bonds\n",
    "# want it to look like 'bond2': 'e0', 'e1'\n",
    "\n",
    "rhs_edges = rhs.nodes_in_edge_dict\n",
    "rhs_dict = {}\n",
    "\n",
    "for edge in rhs_edges:\n",
    "    for bond in rhs_edges[edge]:\n",
    "        # if dict has key, append edge to list\n",
    "        if bond in rhs_dict:\n",
    "            rhs_dict[bond].append(edge)\n",
    "        # if dict does not have key, create key and append edge to list\n",
    "        else:\n",
    "            rhs_dict[bond] = [edge]\n",
    "\n",
    "print(rhs_dict)"
   ]
  },
  {
   "cell_type": "code",
   "execution_count": 15,
   "metadata": {},
   "outputs": [],
   "source": [
    "# add edges to graph\n",
    "\n",
    "for bond in rhs_dict:\n",
    "    if len(rhs_dict[bond]) == 2:\n",
    "        G.add_edge(rhs_dict[bond][0], rhs_dict[bond][1], bond=bond)"
   ]
  },
  {
   "cell_type": "markdown",
   "metadata": {},
   "source": [
    "# TO DELETE ALL NODES AND RELATIONSHIPS"
   ]
  },
  {
   "cell_type": "code",
   "execution_count": 16,
   "metadata": {},
   "outputs": [],
   "source": [
    "G.delete_all()"
   ]
  }
 ],
 "metadata": {
  "kernelspec": {
   "display_name": "Python 3.6.13 ('DEG')",
   "language": "python",
   "name": "python3"
  },
  "language_info": {
   "codemirror_mode": {
    "name": "ipython",
    "version": 3
   },
   "file_extension": ".py",
   "mimetype": "text/x-python",
   "name": "python",
   "nbconvert_exporter": "python",
   "pygments_lexer": "ipython3",
   "version": "3.6.13"
  },
  "vscode": {
   "interpreter": {
    "hash": "0035305480c443afd69b58a5233a27dc610e12582f56669629fbaa8238c650e9"
   }
  }
 },
 "nbformat": 4,
 "nbformat_minor": 2
}
